{
 "cells": [
  {
   "cell_type": "markdown",
   "metadata": {},
   "source": [
    "Q1: Read in this [spectra](1438+02.20150607.txt) of an AGN.  The attached file has columns of wavelength ($\\unicode{x212B}$), flux ($ergs/s/cm^2/\\unicode{x212B}$), and error.   Plot this spectra in terms of wavelength vs. flux.   Also plot in terms of frequency and flux ($ergs/s/cm^2/Hz$).  How does the spectrum change?  "
   ]
  },
  {
   "cell_type": "markdown",
   "metadata": {},
   "source": [
    "Q2: Write a function to calculate the intensity from a source emitting as a blakbody as a function of wavelength.  The function should have a doc string and test the results against analytic calculations to see if it works appropriately.   Produce a plot for a sources of temperature T=1000, 5000, 15000. "
   ]
  }
 ],
 "metadata": {
  "kernelspec": {
   "display_name": "Python 3",
   "language": "python",
   "name": "python3"
  },
  "language_info": {
   "codemirror_mode": {
    "name": "ipython",
    "version": 3
   },
   "file_extension": ".py",
   "mimetype": "text/x-python",
   "name": "python",
   "nbconvert_exporter": "python",
   "pygments_lexer": "ipython3",
   "version": "3.5.2"
  }
 },
 "nbformat": 4,
 "nbformat_minor": 0
}
