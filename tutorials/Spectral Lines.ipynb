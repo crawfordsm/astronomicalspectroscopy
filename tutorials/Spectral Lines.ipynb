{
 "cells": [
  {
   "cell_type": "markdown",
   "metadata": {},
   "source": [
    "1) (2pts) Derive blackbody radiation and the relationship between the Einstein cofficients starting from a simple two state model."
   ]
  },
  {
   "cell_type": "markdown",
   "metadata": {},
   "source": [
    "2) (2pts) Plot and compare a Guassian and Lorentzian line profile \n",
    "(hint: use astropy.models).  If the lines have the same maximum, how does the full width at half maximum vary betwen the two shapes?  If the lines were seen in absorption, where will one profile be dominate over the other?"
   ]
  },
  {
   "cell_type": "markdown",
   "metadata": {},
   "source": [
    "3) (2pts)Which has greater optical depth: the Earthʼs atmosphere with κ=0.0001 cm$^2$/g, ρ=0.001 gm/$cm^3$, and height of 1 km or a dust cloud with an opacity of κ=0.5 cm$^2$/g, n=1x10$^{-6}$ particles/$cm^3$, and length of 1 pc.  Assume a mass for each grain of 3x10$^{-14}$ g. (4)\n"
   ]
  },
  {
   "cell_type": "markdown",
   "metadata": {},
   "source": [
    "3) Hydrogen Atom\n",
    "\n",
    "a. (2pt) A proton and an electron recombine to form atomic hydrogen in the n=3\n",
    "state. What is the energy and wavelength of the photon emitted? In the n=3\n",
    "states, what are the different orbital levels which are possible? And what is the\n",
    "total number of different states (mj values) are available for each of those orbital\n",
    "levels?\n",
    "\n",
    "b. (2pt)From the (n,l,m)=(3,0,0) state, the electron relaxes to the ground level. What\n",
    "are all of the different transitions that the electron could make to reach there?\n",
    "Which ones are possible and why? What is the wavelength and energy of those\n",
    "transitions?\n",
    "\n",
    "c. (2pt) For a transition from the n=3 to n=1 state, what is the difference in\n",
    "wavelength if the nucleus is deuterium instead of hydrogen? What if it is carbon\n",
    "with a single electron? Or an isotope of carbon with an atomic weight=13?"
   ]
  },
  {
   "cell_type": "code",
   "execution_count": null,
   "metadata": {
    "collapsed": true
   },
   "outputs": [],
   "source": []
  }
 ],
 "metadata": {
  "kernelspec": {
   "display_name": "Python 3",
   "language": "python",
   "name": "python3"
  },
  "language_info": {
   "codemirror_mode": {
    "name": "ipython",
    "version": 3
   },
   "file_extension": ".py",
   "mimetype": "text/x-python",
   "name": "python",
   "nbconvert_exporter": "python",
   "pygments_lexer": "ipython3",
   "version": "3.5.2"
  }
 },
 "nbformat": 4,
 "nbformat_minor": 0
}
