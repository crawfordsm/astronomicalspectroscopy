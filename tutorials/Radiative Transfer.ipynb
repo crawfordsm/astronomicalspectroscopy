{
 "cells": [
  {
   "cell_type": "markdown",
   "metadata": {},
   "source": [
    "1) (3pts) Find the solution to the radiative transfer equation in the case of plane parrallel approximation (start with eq 7.12 from Gray) if Sν=a+bτ. Plot the relationship\n",
    "between $I_{\\nu}(\\theta)/I_{\\nu}(\\theta=0)$ vs. $\\theta$ assuming a=b. This is a very simple model for limb\n",
    "darkening. Far more accurate models can be produced using numerical methods.\n",
    "However it does reproduce the general behavior in the intensity distribution of light\n",
    "from the sun in the optical."
   ]
  },
  {
   "cell_type": "markdown",
   "metadata": {},
   "source": [
    "2) (3pts) A solar luminosity star is observed with a flux of \n",
    "$1.8\\times10^{-11} \\ ergs/s/cm^2$ at a\n",
    "distance of 100 pc. What would the flux of the star be at the observer assuming no extinction? What is the optical depth along this line of sight? Is this cloud optically thick or thin? Assuming only absorption by dust, calculate the density of material if the average dust opacity along the line of sight is $\\kappa=3\\times10^{-3}  \\ cm^2/g$."
   ]
  },
  {
   "cell_type": "markdown",
   "metadata": {},
   "source": [
    "3) (3pts) Assume a M6V star and a planet are in thermal equilibrium and both are emitting as blackbodies.  At what radius from the star would the planet orbit in order for their to be liquid water on the surface of the planet.   In reality, nature is far more complex.   Describe some of the factors that contribue to the temperature variations on the planet.  "
   ]
  },
  {
   "cell_type": "markdown",
   "metadata": {},
   "source": [
    "4) (3pts) Assuming that a hot halo of $T=4.5x10^6$ K with a radius of 8 kpc is optical thin and has an electron density of $1x10^{-3} \\ cm^{-3}$, plot the emission from thermal Bremsstrahlung radiation for the gas from 0.1-3 keV. Assume a $g_{ff}=1.2$ and that the gas cloud is only composed\n",
    "of fully ionized hydrogen. What is the total power emitted from Bremsstrahlung emission?  For that radius, how hot would the gas have to be to emit the same amoutn of power as a blackbody?"
   ]
  },
  {
   "cell_type": "code",
   "execution_count": null,
   "metadata": {
    "collapsed": true
   },
   "outputs": [],
   "source": []
  },
  {
   "cell_type": "code",
   "execution_count": null,
   "metadata": {
    "collapsed": true
   },
   "outputs": [],
   "source": []
  }
 ],
 "metadata": {
  "kernelspec": {
   "display_name": "Python 3",
   "language": "python",
   "name": "python3"
  },
  "language_info": {
   "codemirror_mode": {
    "name": "ipython",
    "version": 3
   },
   "file_extension": ".py",
   "mimetype": "text/x-python",
   "name": "python",
   "nbconvert_exporter": "python",
   "pygments_lexer": "ipython3",
   "version": "3.5.2"
  }
 },
 "nbformat": 4,
 "nbformat_minor": 0
}
